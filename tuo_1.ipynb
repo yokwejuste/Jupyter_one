{
 "cells": [
  {
   "cell_type": "code",
   "execution_count": 2,
   "metadata": {
    "collapsed": true
   },
   "outputs": [
    {
     "data": {
      "text/plain": "{0: 0.5669653781855305,\n 1: 0.022753936659890287,\n 2: 0.877685940044195,\n 3: 0.05566720464990458,\n 4: 1.7215955230244546,\n 5: 0.5740442088853224,\n 6: -1.1545012565553183}"
     },
     "execution_count": 2,
     "metadata": {},
     "output_type": "execute_result"
    }
   ],
   "source": [
    "import numpy as np\n",
    "\n",
    "data = {\n",
    "    i: np.random.randn()\n",
    "    for i in range(7)\n",
    "}\n",
    "\n",
    "data"
   ]
  },
  {
   "cell_type": "code",
   "execution_count": 3,
   "metadata": {
    "pycharm": {
     "name": "#%%\n"
    }
   },
   "outputs": [],
   "source": [
    "b = [1, 2, 3]\n",
    "b?"
   ]
  },
  {
   "cell_type": "code",
   "execution_count": 4,
   "metadata": {
    "pycharm": {
     "name": "#%%\n"
    }
   },
   "outputs": [
    {
     "name": "stdout",
     "output_type": "stream",
     "text": [
      "Search results for 'fd'\n",
      "-----------------------\n",
      "turtle.fd\n",
      "    Move the turtle forward by the specified distance.\n",
      "turtle.Pen.fd\n",
      "    Move the turtle forward by the specified distance.\n",
      "turtle.forward\n",
      "    Move the turtle forward by the specified distance.\n",
      "turtle.dot\n",
      "    Draw a dot with diameter size, using color.\n",
      "turtle.tilt\n",
      "    Rotate the turtleshape by angle.\n",
      "turtle.undo\n",
      "    undo (repeatedly) the last turtle action.\n",
      "turtle.onkey\n",
      "    Bind fun to key-release event of key.\n",
      "turtle.stamp\n",
      "    Stamp a copy of the turtleshape onto the canvas and return its id.\n",
      "turtle.getpen\n",
      "    Return the Turtleobject itself.\n",
      "turtle.tracer\n",
      "    Turns turtle animation on/off and set delay for update drawings.\n",
      "turtle.ontimer\n",
      "    Install a timer, which calls fun after t milliseconds.\n",
      "turtle.getturtle\n",
      "    Return the Turtleobject itself.\n",
      "turtle.Pen.dot\n",
      "    Draw a dot with diameter size, using color.\n",
      "turtle.clearstamp\n",
      "    Delete stamp with given stampid\n",
      "turtle.onkeypress\n",
      "    Bind fun to key-press event of key if key is given,\n",
      "turtle.Pen.tilt\n",
      "    Rotate the turtleshape by angle.\n",
      "turtle.Pen.undo\n",
      "    undo (repeatedly) the last turtle action.\n",
      "turtle.clearstamps\n",
      "    Delete all or first/last n of turtle's stamps.\n",
      "turtle.Pen.stamp\n",
      "    Stamp a copy of the turtleshape onto the canvas and return its id.\n",
      "turtle.onkeyrelease\n",
      "    Bind fun to key-release event of key.\n",
      "turtle.settiltangle\n",
      "    Rotate the turtleshape to point in the specified direction\n",
      "turtle.Pen.getpen\n",
      "    Return the Turtleobject itself.\n",
      "turtle.Pen._tracer\n",
      "    Turns turtle animation on/off and set delay for update drawings.\n",
      "turtle.Pen.clearstamp\n",
      "    Delete stamp with given stampid\n",
      "turtle.Pen.clearstamps\n",
      "    Delete all or first/last n of turtle's stamps.\n",
      "turtle.Pen.settiltangle\n",
      "    Rotate the turtleshape to point in the specified direction\n",
      "turtle.TurtleScreen.onkey\n",
      "    Bind fun to key-release event of key.\n",
      "turtle.TurtleScreen.tracer\n",
      "    Turns turtle animation on/off and set delay for update drawings.\n",
      "turtle.TurtleScreen.ontimer\n",
      "    Install a timer, which calls fun after t milliseconds.\n",
      "turtle.TurtleScreen.onkeypress\n",
      "    Bind fun to key-press event of key if key is given,"
     ]
    }
   ],
   "source": [
    "import numpy as np\n",
    "import turtle\n",
    "\n",
    "text = \"Hello World\"\n",
    "\n",
    "np.lookfor(\"fd\", [turtle])"
   ]
  },
  {
   "cell_type": "code",
   "execution_count": 5,
   "metadata": {
    "pycharm": {
     "name": "#%%\n"
    }
   },
   "outputs": [
    {
     "name": "stderr",
     "output_type": "stream",
     "text": [
      "UsageError: Line magic function `%` not found.\n"
     ]
    }
   ],
   "source": [
    "% run hello.py"
   ]
  },
  {
   "cell_type": "code",
   "execution_count": null,
   "metadata": {
    "pycharm": {
     "name": "#%%\n"
    }
   },
   "outputs": [],
   "source": [
    "% load hello.py"
   ]
  },
  {
   "cell_type": "code",
   "execution_count": null,
   "metadata": {
    "pycharm": {
     "name": "#%%\n"
    }
   },
   "outputs": [],
   "source": [
    "% cpaste"
   ]
  },
  {
   "cell_type": "code",
   "execution_count": null,
   "metadata": {
    "pycharm": {
     "name": "#%%\n"
    }
   },
   "outputs": [],
   "source": [
    "import numpy as np\n",
    "\n",
    "a = np.random.randn(100, 100)\n",
    "\n",
    "% timeit np.dot(a, a)"
   ]
  },
  {
   "cell_type": "code",
   "execution_count": null,
   "metadata": {
    "pycharm": {
     "name": "#%%\n"
    }
   },
   "outputs": [],
   "source": [
    "debug?"
   ]
  },
  {
   "cell_type": "code",
   "execution_count": null,
   "metadata": {
    "pycharm": {
     "name": "#%%\n"
    }
   },
   "outputs": [],
   "source": [
    "% pwd"
   ]
  },
  {
   "cell_type": "code",
   "execution_count": null,
   "metadata": {
    "pycharm": {
     "name": "#%%\n"
    }
   },
   "outputs": [],
   "source": [
    "% lsmagic"
   ]
  },
  {
   "cell_type": "code",
   "execution_count": null,
   "metadata": {
    "pycharm": {
     "name": "#%%\n"
    }
   },
   "outputs": [],
   "source": [
    "% magic"
   ]
  },
  {
   "cell_type": "code",
   "execution_count": null,
   "metadata": {
    "pycharm": {
     "name": "#%%\n"
    }
   },
   "outputs": [],
   "source": [
    "% cd?"
   ]
  },
  {
   "cell_type": "code",
   "execution_count": 7,
   "metadata": {
    "pycharm": {
     "name": "#%%\n"
    }
   },
   "outputs": [
    {
     "data": {
      "text/plain": "[<matplotlib.lines.Line2D at 0x7f000aab7bb0>]"
     },
     "execution_count": 7,
     "metadata": {},
     "output_type": "execute_result"
    },
    {
     "data": {
      "text/plain": "<Figure size 432x288 with 1 Axes>",
      "image/png": "[encoded data removed]"
     },
     "metadata": {
      "needs_background": "light"
     },
     "output_type": "display_data"
    }
   ],
   "source": [
    "% matplotlib inline\n",
    "import matplotlib.pyplot as plt\n",
    "import numpy as np\n",
    "\n",
    "plt.plot(np.random.randn(50).cumsum())"
   ]
  },
  {
   "cell_type": "code",
   "execution_count": null,
   "metadata": {
    "pycharm": {
     "name": "#%%\n"
    }
   },
   "outputs": [],
   "source": [
    "s = 'python is good'\n",
    "list(s)"
   ]
  },
  {
   "cell_type": "code",
   "execution_count": null,
   "outputs": [],
   "source": [
    "template = '{0:.2f} {1:s} are worth US${2:d}'\n",
    "\n",
    "template.format(4.5560, 'Argentina Pesos', 1)"
   ],
   "metadata": {
    "collapsed": false,
    "pycharm": {
     "name": "#%%\n"
    }
   }
  },
  {
   "cell_type": "code",
   "execution_count": null,
   "outputs": [],
   "source": [
    "val = 'espanol'\n",
    "\n",
    "val_utf8 = val.encode('utf-8')\n",
    "\n",
    "type(val_utf8)"
   ],
   "metadata": {
    "collapsed": false,
    "pycharm": {
     "name": "#%%\n"
    }
   }
  },
  {
   "cell_type": "code",
   "execution_count": 3,
   "outputs": [
    {
     "name": "stdout",
     "output_type": "stream",
     "text": [
      "['S', 't', 'e', 'v', 'e', ' ', 'i', 's', ' ', 'h', 'a', 'n', 'd', 's', 'o', 'm', 'e', ' ', 'b', 'o', 'y']\n"
     ]
    }
   ],
   "source": [
    "def is_iterable(obj):\n",
    "    try:\n",
    "        iter(obj)\n",
    "        return True\n",
    "    except TypeError:\n",
    "        return False\n",
    "\n",
    "x = 'Steve is handsome boy'\n",
    "\n",
    "if not isinstance(x, list) and is_iterable(x):\n",
    "    x = list(x)\n",
    "\n",
    "print(x)"
   ],
   "metadata": {
    "collapsed": false,
    "pycharm": {
     "name": "#%%\n"
    }
   }
  }
 ],
 "metadata": {
  "kernelspec": {
   "display_name": "Python 3 (ipykernel)",
   "language": "python",
   "name": "python3"
  },
  "language_info": {
   "codemirror_mode": {
    "name": "ipython",
    "version": 3
   },
   "file_extension": ".py",
   "mimetype": "text/x-python",
   "name": "python",
   "nbconvert_exporter": "python",
   "pygments_lexer": "ipython3",
   "version": "3.9.7"
  }
 },
 "nbformat": 4,
 "nbformat_minor": 1
}