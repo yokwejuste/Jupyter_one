{
 "cells": [
  {
   "cell_type": "code",
   "execution_count": 1,
   "metadata": {
    "collapsed": true
   },
   "outputs": [
    {
     "data": {
      "text/plain": "{0: 0.15775490733165184,\n 1: 0.12905423342584138,\n 2: 0.6445302673977938,\n 3: -0.6153802296308926,\n 4: 0.20407887147198073,\n 5: 1.520391845758926,\n 6: 0.18182383772802393}"
     },
     "execution_count": 1,
     "metadata": {},
     "output_type": "execute_result"
    }
   ],
   "source": [
    "import numpy as np\n",
    "\n",
    "data = {\n",
    "    i: np.random.randn()\n",
    "    for i in range(7)\n",
    "}\n",
    "\n",
    "data"
   ]
  },
  {
   "cell_type": "code",
   "execution_count": 2,
   "outputs": [],
   "source": [
    "b = [1, 2, 3]\n",
    "b?"
   ],
   "metadata": {
    "collapsed": false,
    "pycharm": {
     "name": "#%%\n"
    }
   }
  },
  {
   "cell_type": "code",
   "execution_count": 11,
   "outputs": [
    {
     "name": "stdout",
     "output_type": "stream",
     "text": [
      "Search results for 'fd'\n",
      "-----------------------\n",
      "turtle.fd\n",
      "    Move the turtle forward by the specified distance.\n",
      "turtle.Pen.fd\n",
      "    Move the turtle forward by the specified distance.\n",
      "turtle.forward\n",
      "    Move the turtle forward by the specified distance.\n",
      "turtle.dot\n",
      "    Draw a dot with diameter size, using color.\n",
      "turtle.tilt\n",
      "    Rotate the turtleshape by angle.\n",
      "turtle.undo\n",
      "    undo (repeatedly) the last turtle action.\n",
      "turtle.onkey\n",
      "    Bind fun to key-release event of key.\n",
      "turtle.stamp\n",
      "    Stamp a copy of the turtleshape onto the canvas and return its id.\n",
      "turtle.getpen\n",
      "    Return the Turtleobject itself.\n",
      "turtle.tracer\n",
      "    Turns turtle animation on/off and set delay for update drawings.\n",
      "turtle.ontimer\n",
      "    Install a timer, which calls fun after t milliseconds.\n",
      "turtle.getturtle\n",
      "    Return the Turtleobject itself.\n",
      "turtle.Pen.dot\n",
      "    Draw a dot with diameter size, using color.\n",
      "turtle.clearstamp\n",
      "    Delete stamp with given stampid\n",
      "turtle.onkeypress\n",
      "    Bind fun to key-press event of key if key is given,\n",
      "turtle.Pen.tilt\n",
      "    Rotate the turtleshape by angle.\n",
      "turtle.Pen.undo\n",
      "    undo (repeatedly) the last turtle action.\n",
      "turtle.clearstamps\n",
      "    Delete all or first/last n of turtle's stamps.\n",
      "turtle.Pen.stamp\n",
      "    Stamp a copy of the turtleshape onto the canvas and return its id.\n",
      "turtle.onkeyrelease\n",
      "    Bind fun to key-release event of key.\n",
      "turtle.settiltangle\n",
      "    Rotate the turtleshape to point in the specified direction\n",
      "turtle.Pen.getpen\n",
      "    Return the Turtleobject itself.\n",
      "turtle.Pen._tracer\n",
      "    Turns turtle animation on/off and set delay for update drawings.\n",
      "turtle.Pen.clearstamp\n",
      "    Delete stamp with given stampid\n",
      "turtle.Pen.clearstamps\n",
      "    Delete all or first/last n of turtle's stamps.\n",
      "turtle.Pen.settiltangle\n",
      "    Rotate the turtleshape to point in the specified direction\n",
      "turtle.TurtleScreen.onkey\n",
      "    Bind fun to key-release event of key.\n",
      "turtle.TurtleScreen.tracer\n",
      "    Turns turtle animation on/off and set delay for update drawings.\n",
      "turtle.TurtleScreen.ontimer\n",
      "    Install a timer, which calls fun after t milliseconds.\n",
      "turtle.TurtleScreen.onkeypress\n",
      "    Bind fun to key-press event of key if key is given,"
     ]
    }
   ],
   "source": [
    "import numpy as np\n",
    "import turtle\n",
    "\n",
    "text = \"Hello World\"\n",
    "\n",
    "np.lookfor(\"fd\", [turtle])"
   ],
   "metadata": {
    "collapsed": false,
    "pycharm": {
     "name": "#%%\n"
    }
   }
  },
  {
   "cell_type": "code",
   "execution_count": 1,
   "outputs": [
    {
     "name": "stdout",
     "output_type": "stream",
     "text": [
      "Hello World\n"
     ]
    }
   ],
   "source": [
    "%run hello.py"
   ],
   "metadata": {
    "collapsed": false,
    "pycharm": {
     "name": "#%%\n"
    }
   }
  },
  {
   "cell_type": "code",
   "execution_count": 4,
   "outputs": [],
   "source": [
    "%load hello.py"
   ],
   "metadata": {
    "collapsed": false,
    "pycharm": {
     "name": "#%%\n"
    }
   }
  },
  {
   "cell_type": "code",
   "execution_count": 5,
   "outputs": [
    {
     "name": "stderr",
     "output_type": "stream",
     "text": [
      "UsageError: Line magic function `%cpaste` not found.\n"
     ]
    }
   ],
   "source": [
    "%cpaste"
   ],
   "metadata": {
    "collapsed": false,
    "pycharm": {
     "name": "#%%\n"
    }
   }
  },
  {
   "cell_type": "code",
   "execution_count": 10,
   "outputs": [
    {
     "name": "stdout",
     "output_type": "stream",
     "text": [
      "8.52 ns ± 0.178 ns per loop (mean ± std. dev. of 7 runs, 100000000 loops each)\n"
     ]
    }
   ],
   "source": [
    "import numpy as np\n",
    "\n",
    "a = np.random.randn(100, 100)\n",
    "\n",
    "%timeit np.dot(a, a)"
   ],
   "metadata": {
    "collapsed": false,
    "pycharm": {
     "name": "#%%\n"
    }
   }
  }
 ],
 "metadata": {
  "kernelspec": {
   "display_name": "Python 3",
   "language": "python",
   "name": "python3"
  },
  "language_info": {
   "codemirror_mode": {
    "name": "ipython",
    "version": 2
   },
   "file_extension": ".py",
   "mimetype": "text/x-python",
   "name": "python",
   "nbconvert_exporter": "python",
   "pygments_lexer": "ipython2",
   "version": "2.7.6"
  }
 },
 "nbformat": 4,
 "nbformat_minor": 0
}