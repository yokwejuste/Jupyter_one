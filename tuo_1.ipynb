{
 "cells": [
  {
   "cell_type": "code",
   "execution_count": 1,
   "metadata": {
    "collapsed": true
   },
   "outputs": [
    {
     "data": {
      "text/plain": "{0: 0.7424864431412656,\n 1: -1.1632330978070478,\n 2: -1.126681768204715,\n 3: -0.28825439885087684,\n 4: 1.188770993205489,\n 5: -0.7400459646497476,\n 6: 1.0725442559746357}"
     },
     "execution_count": 1,
     "metadata": {},
     "output_type": "execute_result"
    }
   ],
   "source": [
    "import numpy as np\n",
    "\n",
    "data = {\n",
    "    i: np.random.randn()\n",
    "    for i in range(7)\n",
    "}\n",
    "\n",
    "data"
   ]
  },
  {
   "cell_type": "code",
   "execution_count": 2,
   "metadata": {
    "pycharm": {
     "name": "#%%\n"
    }
   },
   "outputs": [],
   "source": [
    "b = [1, 2, 3]\n",
    "b?"
   ]
  },
  {
   "cell_type": "code",
   "execution_count": 1,
   "metadata": {
    "pycharm": {
     "name": "#%%\n"
    }
   },
   "outputs": [
    {
     "name": "stdout",
     "output_type": "stream",
     "text": [
      "Search results for 'fd'\n",
      "-----------------------\n",
      "turtle.fd\n",
      "    Move the turtle forward by the specified distance.\n",
      "turtle.Pen.fd\n",
      "    Move the turtle forward by the specified distance.\n",
      "turtle.forward\n",
      "    Move the turtle forward by the specified distance.\n",
      "turtle.dot\n",
      "    Draw a dot with diameter size, using color.\n",
      "turtle.tilt\n",
      "    Rotate the turtleshape by angle.\n",
      "turtle.undo\n",
      "    undo (repeatedly) the last turtle action.\n",
      "turtle.onkey\n",
      "    Bind fun to key-release event of key.\n",
      "turtle.stamp\n",
      "    Stamp a copy of the turtleshape onto the canvas and return its id.\n",
      "turtle.getpen\n",
      "    Return the Turtleobject itself.\n",
      "turtle.tracer\n",
      "    Turns turtle animation on/off and set delay for update drawings.\n",
      "turtle.ontimer\n",
      "    Install a timer, which calls fun after t milliseconds.\n",
      "turtle.getturtle\n",
      "    Return the Turtleobject itself.\n",
      "turtle.Pen.dot\n",
      "    Draw a dot with diameter size, using color.\n",
      "turtle.clearstamp\n",
      "    Delete stamp with given stampid\n",
      "turtle.onkeypress\n",
      "    Bind fun to key-press event of key if key is given,\n",
      "turtle.Pen.tilt\n",
      "    Rotate the turtleshape by angle.\n",
      "turtle.Pen.undo\n",
      "    undo (repeatedly) the last turtle action.\n",
      "turtle.clearstamps\n",
      "    Delete all or first/last n of turtle's stamps.\n",
      "turtle.Pen.stamp\n",
      "    Stamp a copy of the turtleshape onto the canvas and return its id.\n",
      "turtle.onkeyrelease\n",
      "    Bind fun to key-release event of key.\n",
      "turtle.settiltangle\n",
      "    Rotate the turtleshape to point in the specified direction\n",
      "turtle.Pen.getpen\n",
      "    Return the Turtleobject itself.\n",
      "turtle.Pen._tracer\n",
      "    Turns turtle animation on/off and set delay for update drawings.\n",
      "turtle.Pen.clearstamp\n",
      "    Delete stamp with given stampid\n",
      "turtle.Pen.clearstamps\n",
      "    Delete all or first/last n of turtle's stamps.\n",
      "turtle.Pen.settiltangle\n",
      "    Rotate the turtleshape to point in the specified direction\n",
      "turtle.TurtleScreen.onkey\n",
      "    Bind fun to key-release event of key.\n",
      "turtle.TurtleScreen.tracer\n",
      "    Turns turtle animation on/off and set delay for update drawings.\n",
      "turtle.TurtleScreen.ontimer\n",
      "    Install a timer, which calls fun after t milliseconds.\n",
      "turtle.TurtleScreen.onkeypress\n",
      "    Bind fun to key-press event of key if key is given,"
     ]
    }
   ],
   "source": [
    "import numpy as np\n",
    "import turtle\n",
    "\n",
    "text = \"Hello World\"\n",
    "\n",
    "np.lookfor(\"fd\", [turtle])"
   ]
  },
  {
   "cell_type": "code",
   "execution_count": 2,
   "metadata": {
    "pycharm": {
     "name": "#%%\n"
    }
   },
   "outputs": [
    {
     "name": "stdout",
     "output_type": "stream",
     "text": [
      "Hello World\n"
     ]
    }
   ],
   "source": [
    "%run hello.py"
   ]
  },
  {
   "cell_type": "code",
   "execution_count": 16,
   "metadata": {
    "pycharm": {
     "name": "#%%\n"
    }
   },
   "outputs": [],
   "source": [
    "%load hello.py"
   ]
  },
  {
   "cell_type": "code",
   "execution_count": 6,
   "metadata": {
    "pycharm": {
     "name": "#%%\n"
    }
   },
   "outputs": [
    {
     "name": "stderr",
     "output_type": "stream",
     "text": [
      "UsageError: Line magic function `%cpaste` not found.\n"
     ]
    }
   ],
   "source": [
    "%cpaste"
   ]
  },
  {
   "cell_type": "code",
   "execution_count": 11,
   "metadata": {
    "pycharm": {
     "name": "#%%\n"
    }
   },
   "outputs": [
    {
     "name": "stdout",
     "output_type": "stream",
     "text": [
      "131 µs ± 13.9 µs per loop (mean ± std. dev. of 7 runs, 10000 loops each)\n"
     ]
    }
   ],
   "source": [
    "import numpy as np\n",
    "\n",
    "a = np.random.randn(100, 100)\n",
    "\n",
    "%timeit np.dot(a, a)"
   ]
  },
  {
   "cell_type": "code",
   "execution_count": 12,
   "metadata": {
    "pycharm": {
     "name": "#%%\n"
    }
   },
   "outputs": [],
   "source": [
    "debug?"
   ]
  },
  {
   "cell_type": "code",
   "execution_count": 5,
   "metadata": {
    "pycharm": {
     "name": "#%%\n"
    }
   },
   "outputs": [
    {
     "name": "stderr",
     "output_type": "stream",
     "text": [
      "UsageError: Line magic function `%` not found.\n"
     ]
    }
   ],
   "source": [
    "%pwd"
   ]
  },
  {
   "cell_type": "code",
   "execution_count": 3,
   "metadata": {
    "pycharm": {
     "name": "#%%\n"
    }
   },
   "outputs": [
    {
     "name": "stderr",
     "output_type": "stream",
     "text": [
      "UsageError: Line magic function `%` not found.\n"
     ]
    }
   ],
   "source": [
    "%lsmagic"
   ]
  },
  {
   "cell_type": "code",
   "execution_count": 17,
   "metadata": {
    "pycharm": {
     "name": "#%%\n"
    }
   },
   "outputs": [],
   "source": [
    "%magic"
   ]
  },
  {
   "cell_type": "code",
   "execution_count": 18,
   "metadata": {
    "pycharm": {
     "name": "#%%\n"
    }
   },
   "outputs": [],
   "source": [
    "%cd?"
   ]
  },
  {
   "cell_type": "code",
   "execution_count": 19,
   "metadata": {
    "pycharm": {
     "name": "#%%\n"
    }
   },
   "outputs": [
    {
     "data": {
      "text/plain": "[<matplotlib.lines.Line2D at 0x7f1838052be0>]"
     },
     "execution_count": 19,
     "metadata": {},
     "output_type": "execute_result"
    },
    {
     "data": {
      "text/plain": "<Figure size 432x288 with 1 Axes>",
      "image/png": "[encoded data removed]"
     },
     "metadata": {
      "needs_background": "light"
     },
     "output_type": "display_data"
    }
   ],
   "source": [
    "% matplotlib inline\n",
    "import matplotlib.pyplot as plt\n",
    "import numpy as np\n",
    "\n",
    "plt.plot(np.random.randn(50).cumsum())"
   ]
  },
  {
   "cell_type": "code",
   "execution_count": 7,
   "metadata": {
    "pycharm": {
     "name": "#%%\n"
    }
   },
   "outputs": [
    {
     "data": {
      "text/plain": "['p', 'y', 't', 'h', 'o', 'n', ' ', 'i', 's', ' ', 'g', 'o', 'o', 'd']"
     },
     "execution_count": 7,
     "metadata": {},
     "output_type": "execute_result"
    }
   ],
   "source": [
    "s = 'python is good'\n",
    "list(s)"
   ]
  },
  {
   "cell_type": "code",
   "execution_count": 8,
   "outputs": [
    {
     "data": {
      "text/plain": "'4.56 Argentina Pesos are worth US$1'"
     },
     "execution_count": 8,
     "metadata": {},
     "output_type": "execute_result"
    }
   ],
   "source": [
    "template = '{0:.2f} {1:s} are worth US${2:d}'\n",
    "\n",
    "template.format(4.5560, 'Argentina Pesos', 1)"
   ],
   "metadata": {
    "collapsed": false,
    "pycharm": {
     "name": "#%%\n"
    }
   }
  },
  {
   "cell_type": "code",
   "execution_count": 9,
   "outputs": [
    {
     "data": {
      "text/plain": "bytes"
     },
     "execution_count": 9,
     "metadata": {},
     "output_type": "execute_result"
    }
   ],
   "source": [
    "val = 'espanol'\n",
    "\n",
    "val_utf8 = val.encode('utf-8')\n",
    "\n",
    "type(val_utf8)"
   ],
   "metadata": {
    "collapsed": false,
    "pycharm": {
     "name": "#%%\n"
    }
   }
  },
  {
   "cell_type": "code",
   "execution_count": 10,
   "outputs": [
    {
     "name": "stdout",
     "output_type": "stream",
     "text": [
      "['S', 't', 'e', 'v', 'e', ' ', 'i', 's', ' ', 'h', 'a', 'n', 'd', 's', 'o', 'm', 'e', ' ', 'b', 'o', 'y']\n"
     ]
    }
   ],
   "source": [
    "def is_iterable(obj):\n",
    "    try:\n",
    "        iter(obj)\n",
    "        return True\n",
    "    except TypeError:\n",
    "        return False\n",
    "\n",
    "\n",
    "x = 'Steve is handsome boy'\n",
    "\n",
    "if not isinstance(x, list) and is_iterable(x):\n",
    "    x = list(x)\n",
    "\n",
    "print(x)"
   ],
   "metadata": {
    "collapsed": false,
    "pycharm": {
     "name": "#%%\n"
    }
   }
  },
  {
   "cell_type": "code",
   "execution_count": 22,
   "outputs": [
    {
     "data": {
      "text/plain": "'Uncle Steve'"
     },
     "execution_count": 22,
     "metadata": {},
     "output_type": "execute_result"
    }
   ],
   "source": [
    "new_dict = {\n",
    "    'new': 'Uncle Steve'\n",
    "}\n",
    "\n",
    "new_dict.get('new', 37)"
   ],
   "metadata": {
    "collapsed": false,
    "pycharm": {
     "name": "#%%\n"
    }
   }
  },
  {
   "cell_type": "markdown",
   "source": [
    "##### This is a problem doing with sets\n",
    "***We are trying to sort out the array below into a set***\n",
    "__In case te first letter of word is present in the set, it appends the word into the letter value in the set__"
   ],
   "metadata": {
    "collapsed": false
   }
  },
  {
   "cell_type": "code",
   "execution_count": 25,
   "outputs": [
    {
     "data": {
      "text/plain": "{'a': ['apple', 'atom'], 'b': ['bat', 'bar', 'book']}"
     },
     "execution_count": 25,
     "metadata": {},
     "output_type": "execute_result"
    }
   ],
   "source": [
    "words = ['apple', 'bat', 'bar', 'atom', 'book']\n",
    "by_letter = {}\n",
    "for word in words:\n",
    "    letter = word[0]\n",
    "    if letter not in by_letter:\n",
    "        by_letter[letter] = [word]\n",
    "    else:\n",
    "        by_letter[letter].append(word)\n",
    "by_letter"
   ],
   "metadata": {
    "collapsed": false,
    "pycharm": {
     "name": "#%%\n"
    }
   }
  }
 ],
 "metadata": {
  "kernelspec": {
   "display_name": "Python 3 (ipykernel)",
   "language": "python",
   "name": "python3"
  },
  "language_info": {
   "codemirror_mode": {
    "name": "ipython",
    "version": 3
   },
   "file_extension": ".py",
   "mimetype": "text/x-python",
   "name": "python",
   "nbconvert_exporter": "python",
   "pygments_lexer": "ipython3",
   "version": "3.9.7"
  }
 },
 "nbformat": 4,
 "nbformat_minor": 1
}